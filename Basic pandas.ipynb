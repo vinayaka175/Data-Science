{
 "cells": [
  {
   "cell_type": "code",
   "execution_count": 2,
   "id": "84851d36",
   "metadata": {},
   "outputs": [],
   "source": [
    "# import pandas\n",
    "\n",
    "import pandas as pd\n"
   ]
  },
  {
   "cell_type": "code",
   "execution_count": 3,
   "id": "bf39d2cc",
   "metadata": {},
   "outputs": [],
   "source": [
    "# reading various file formats in pandas \n",
    "# csv files using read_csv() function\n",
    "\n",
    "# import pandas as pd\n",
    "df = pd.read_csv('mobile_dataset1.csv')\n"
   ]
  },
  {
   "cell_type": "code",
   "execution_count": 4,
   "id": "fef0965c",
   "metadata": {},
   "outputs": [
    {
     "data": {
      "text/html": [
       "<div>\n",
       "<style scoped>\n",
       "    .dataframe tbody tr th:only-of-type {\n",
       "        vertical-align: middle;\n",
       "    }\n",
       "\n",
       "    .dataframe tbody tr th {\n",
       "        vertical-align: top;\n",
       "    }\n",
       "\n",
       "    .dataframe thead th {\n",
       "        text-align: right;\n",
       "    }\n",
       "</style>\n",
       "<table border=\"1\" class=\"dataframe\">\n",
       "  <thead>\n",
       "    <tr style=\"text-align: right;\">\n",
       "      <th></th>\n",
       "      <th>company_name</th>\n",
       "      <th>RAM</th>\n",
       "      <th>ROM</th>\n",
       "      <th>type</th>\n",
       "      <th>height_in</th>\n",
       "      <th>display</th>\n",
       "      <th>battery_power</th>\n",
       "      <th>front_camera</th>\n",
       "      <th>back_camera</th>\n",
       "      <th>height_cm</th>\n",
       "      <th>processor</th>\n",
       "      <th>price</th>\n",
       "    </tr>\n",
       "  </thead>\n",
       "  <tbody>\n",
       "    <tr>\n",
       "      <th>0</th>\n",
       "      <td>SAMSUNG</td>\n",
       "      <td>12</td>\n",
       "      <td>512</td>\n",
       "      <td>Galaxy Z Fold4 5G</td>\n",
       "      <td>7.60</td>\n",
       "      <td>Full HD+</td>\n",
       "      <td>4400</td>\n",
       "      <td>10.0</td>\n",
       "      <td>72</td>\n",
       "      <td>19.3040</td>\n",
       "      <td>Qualcomm Snapdragon 8+ Gen 1</td>\n",
       "      <td>₹1,64,999</td>\n",
       "    </tr>\n",
       "    <tr>\n",
       "      <th>1</th>\n",
       "      <td>SAMSUNG</td>\n",
       "      <td>12</td>\n",
       "      <td>256</td>\n",
       "      <td>Galaxy Z Fold3 5G</td>\n",
       "      <td>7.60</td>\n",
       "      <td>QXGA+</td>\n",
       "      <td>4400</td>\n",
       "      <td>10.0</td>\n",
       "      <td>36</td>\n",
       "      <td>19.3040</td>\n",
       "      <td>Qualcomm Snapdragon 888 Octa-Core</td>\n",
       "      <td>₹1,61,000</td>\n",
       "    </tr>\n",
       "    <tr>\n",
       "      <th>2</th>\n",
       "      <td>SAMSUNG</td>\n",
       "      <td>12</td>\n",
       "      <td>256</td>\n",
       "      <td>Galaxy Z Fold4 5G</td>\n",
       "      <td>7.60</td>\n",
       "      <td>Full HD+</td>\n",
       "      <td>4400</td>\n",
       "      <td>10.0</td>\n",
       "      <td>72</td>\n",
       "      <td>19.3040</td>\n",
       "      <td>Qualcomm Snapdragon 8+ Gen 1</td>\n",
       "      <td>₹1,54,999</td>\n",
       "    </tr>\n",
       "    <tr>\n",
       "      <th>3</th>\n",
       "      <td>SAMSUNG</td>\n",
       "      <td>12</td>\n",
       "      <td>256</td>\n",
       "      <td>Galaxy Z Fold3 5G</td>\n",
       "      <td>7.60</td>\n",
       "      <td>QXGA+</td>\n",
       "      <td>4400</td>\n",
       "      <td>10.0</td>\n",
       "      <td>36</td>\n",
       "      <td>19.3040</td>\n",
       "      <td>Qualcomm Snapdragon 888 Octa-Core</td>\n",
       "      <td>₹1,49,999</td>\n",
       "    </tr>\n",
       "    <tr>\n",
       "      <th>4</th>\n",
       "      <td>SAMSUNG</td>\n",
       "      <td>12</td>\n",
       "      <td>512</td>\n",
       "      <td>Galaxy S22 Ultra 5G</td>\n",
       "      <td>6.80</td>\n",
       "      <td>Quad HD+</td>\n",
       "      <td>5000</td>\n",
       "      <td>40.0</td>\n",
       "      <td>130</td>\n",
       "      <td>17.2720</td>\n",
       "      <td>Octa Core</td>\n",
       "      <td>₹1,42,999</td>\n",
       "    </tr>\n",
       "    <tr>\n",
       "      <th>...</th>\n",
       "      <td>...</td>\n",
       "      <td>...</td>\n",
       "      <td>...</td>\n",
       "      <td>...</td>\n",
       "      <td>...</td>\n",
       "      <td>...</td>\n",
       "      <td>...</td>\n",
       "      <td>...</td>\n",
       "      <td>...</td>\n",
       "      <td>...</td>\n",
       "      <td>...</td>\n",
       "      <td>...</td>\n",
       "    </tr>\n",
       "    <tr>\n",
       "      <th>791</th>\n",
       "      <td>Redmi</td>\n",
       "      <td>4</td>\n",
       "      <td>64</td>\n",
       "      <td>Note 7 Pro</td>\n",
       "      <td>6.30</td>\n",
       "      <td>Full HD+</td>\n",
       "      <td>4000</td>\n",
       "      <td>13.0</td>\n",
       "      <td>53</td>\n",
       "      <td>16.0020</td>\n",
       "      <td>Qualcomm Snapdragon 675</td>\n",
       "      <td>₹15,999</td>\n",
       "    </tr>\n",
       "    <tr>\n",
       "      <th>792</th>\n",
       "      <td>Redmi</td>\n",
       "      <td>4</td>\n",
       "      <td>64</td>\n",
       "      <td>Note 7 Pro</td>\n",
       "      <td>6.30</td>\n",
       "      <td>Full HD+</td>\n",
       "      <td>4000</td>\n",
       "      <td>13.0</td>\n",
       "      <td>53</td>\n",
       "      <td>16.0020</td>\n",
       "      <td>Qualcomm Snapdragon 675</td>\n",
       "      <td>₹15,999</td>\n",
       "    </tr>\n",
       "    <tr>\n",
       "      <th>793</th>\n",
       "      <td>Redmi</td>\n",
       "      <td>4</td>\n",
       "      <td>64</td>\n",
       "      <td>Note 7 Pro</td>\n",
       "      <td>6.30</td>\n",
       "      <td>Full HD+</td>\n",
       "      <td>4000</td>\n",
       "      <td>13.0</td>\n",
       "      <td>53</td>\n",
       "      <td>16.0020</td>\n",
       "      <td>Qualcomm Snapdragon 675</td>\n",
       "      <td>₹15,999</td>\n",
       "    </tr>\n",
       "    <tr>\n",
       "      <th>794</th>\n",
       "      <td>Infinix</td>\n",
       "      <td>8</td>\n",
       "      <td>128</td>\n",
       "      <td>Note 12 Pro 5G</td>\n",
       "      <td>6.70</td>\n",
       "      <td>Full HD+</td>\n",
       "      <td>5000</td>\n",
       "      <td>16.0</td>\n",
       "      <td>112</td>\n",
       "      <td>17.0180</td>\n",
       "      <td>Mediatek Dimensity 810 5G</td>\n",
       "      <td>₹15,999</td>\n",
       "    </tr>\n",
       "    <tr>\n",
       "      <th>795</th>\n",
       "      <td>REDMI</td>\n",
       "      <td>4</td>\n",
       "      <td>64</td>\n",
       "      <td>11 Prime 5G</td>\n",
       "      <td>6.58</td>\n",
       "      <td>Normal</td>\n",
       "      <td>5000</td>\n",
       "      <td>50.0</td>\n",
       "      <td>50</td>\n",
       "      <td>16.7132</td>\n",
       "      <td>NaN</td>\n",
       "      <td>₹15,999</td>\n",
       "    </tr>\n",
       "  </tbody>\n",
       "</table>\n",
       "<p>796 rows × 12 columns</p>\n",
       "</div>"
      ],
      "text/plain": [
       "    company_name  RAM  ROM                 type  height_in   display  \\\n",
       "0        SAMSUNG   12  512    Galaxy Z Fold4 5G       7.60  Full HD+   \n",
       "1        SAMSUNG   12  256    Galaxy Z Fold3 5G       7.60     QXGA+   \n",
       "2        SAMSUNG   12  256    Galaxy Z Fold4 5G       7.60  Full HD+   \n",
       "3        SAMSUNG   12  256    Galaxy Z Fold3 5G       7.60     QXGA+   \n",
       "4        SAMSUNG   12  512  Galaxy S22 Ultra 5G       6.80  Quad HD+   \n",
       "..           ...  ...  ...                  ...        ...       ...   \n",
       "791        Redmi    4   64           Note 7 Pro       6.30  Full HD+   \n",
       "792        Redmi    4   64           Note 7 Pro       6.30  Full HD+   \n",
       "793        Redmi    4   64           Note 7 Pro       6.30  Full HD+   \n",
       "794      Infinix    8  128       Note 12 Pro 5G       6.70  Full HD+   \n",
       "795        REDMI    4   64          11 Prime 5G       6.58    Normal   \n",
       "\n",
       "     battery_power  front_camera back_camera  height_cm  \\\n",
       "0             4400          10.0          72    19.3040   \n",
       "1             4400          10.0          36    19.3040   \n",
       "2             4400          10.0          72    19.3040   \n",
       "3             4400          10.0          36    19.3040   \n",
       "4             5000          40.0         130    17.2720   \n",
       "..             ...           ...         ...        ...   \n",
       "791           4000          13.0          53    16.0020   \n",
       "792           4000          13.0          53    16.0020   \n",
       "793           4000          13.0          53    16.0020   \n",
       "794           5000          16.0         112    17.0180   \n",
       "795           5000          50.0          50    16.7132   \n",
       "\n",
       "                             processor      price  \n",
       "0         Qualcomm Snapdragon 8+ Gen 1  ₹1,64,999  \n",
       "1    Qualcomm Snapdragon 888 Octa-Core  ₹1,61,000  \n",
       "2         Qualcomm Snapdragon 8+ Gen 1  ₹1,54,999  \n",
       "3    Qualcomm Snapdragon 888 Octa-Core  ₹1,49,999  \n",
       "4                            Octa Core  ₹1,42,999  \n",
       "..                                 ...        ...  \n",
       "791            Qualcomm Snapdragon 675    ₹15,999  \n",
       "792            Qualcomm Snapdragon 675    ₹15,999  \n",
       "793            Qualcomm Snapdragon 675    ₹15,999  \n",
       "794          Mediatek Dimensity 810 5G    ₹15,999  \n",
       "795                                NaN    ₹15,999  \n",
       "\n",
       "[796 rows x 12 columns]"
      ]
     },
     "execution_count": 4,
     "metadata": {},
     "output_type": "execute_result"
    }
   ],
   "source": [
    "df"
   ]
  },
  {
   "cell_type": "code",
   "execution_count": 6,
   "id": "29629286",
   "metadata": {},
   "outputs": [
    {
     "data": {
      "text/html": [
       "<div>\n",
       "<style scoped>\n",
       "    .dataframe tbody tr th:only-of-type {\n",
       "        vertical-align: middle;\n",
       "    }\n",
       "\n",
       "    .dataframe tbody tr th {\n",
       "        vertical-align: top;\n",
       "    }\n",
       "\n",
       "    .dataframe thead th {\n",
       "        text-align: right;\n",
       "    }\n",
       "</style>\n",
       "<table border=\"1\" class=\"dataframe\">\n",
       "  <thead>\n",
       "    <tr style=\"text-align: right;\">\n",
       "      <th></th>\n",
       "      <th>company_name</th>\n",
       "      <th>RAM</th>\n",
       "      <th>ROM</th>\n",
       "      <th>type</th>\n",
       "      <th>height_in</th>\n",
       "      <th>display</th>\n",
       "      <th>battery_power</th>\n",
       "      <th>front_camera</th>\n",
       "      <th>back_camera</th>\n",
       "      <th>height_cm</th>\n",
       "      <th>processor</th>\n",
       "      <th>price</th>\n",
       "    </tr>\n",
       "  </thead>\n",
       "  <tbody>\n",
       "    <tr>\n",
       "      <th>0</th>\n",
       "      <td>SAMSUNG</td>\n",
       "      <td>12</td>\n",
       "      <td>512</td>\n",
       "      <td>Galaxy Z Fold4 5G</td>\n",
       "      <td>7.6</td>\n",
       "      <td>Full HD+</td>\n",
       "      <td>4400</td>\n",
       "      <td>10.0</td>\n",
       "      <td>72</td>\n",
       "      <td>19.304</td>\n",
       "      <td>Qualcomm Snapdragon 8+ Gen 1</td>\n",
       "      <td>₹1,64,999</td>\n",
       "    </tr>\n",
       "    <tr>\n",
       "      <th>1</th>\n",
       "      <td>SAMSUNG</td>\n",
       "      <td>12</td>\n",
       "      <td>256</td>\n",
       "      <td>Galaxy Z Fold3 5G</td>\n",
       "      <td>7.6</td>\n",
       "      <td>QXGA+</td>\n",
       "      <td>4400</td>\n",
       "      <td>10.0</td>\n",
       "      <td>36</td>\n",
       "      <td>19.304</td>\n",
       "      <td>Qualcomm Snapdragon 888 Octa-Core</td>\n",
       "      <td>₹1,61,000</td>\n",
       "    </tr>\n",
       "    <tr>\n",
       "      <th>2</th>\n",
       "      <td>SAMSUNG</td>\n",
       "      <td>12</td>\n",
       "      <td>256</td>\n",
       "      <td>Galaxy Z Fold4 5G</td>\n",
       "      <td>7.6</td>\n",
       "      <td>Full HD+</td>\n",
       "      <td>4400</td>\n",
       "      <td>10.0</td>\n",
       "      <td>72</td>\n",
       "      <td>19.304</td>\n",
       "      <td>Qualcomm Snapdragon 8+ Gen 1</td>\n",
       "      <td>₹1,54,999</td>\n",
       "    </tr>\n",
       "    <tr>\n",
       "      <th>3</th>\n",
       "      <td>SAMSUNG</td>\n",
       "      <td>12</td>\n",
       "      <td>256</td>\n",
       "      <td>Galaxy Z Fold3 5G</td>\n",
       "      <td>7.6</td>\n",
       "      <td>QXGA+</td>\n",
       "      <td>4400</td>\n",
       "      <td>10.0</td>\n",
       "      <td>36</td>\n",
       "      <td>19.304</td>\n",
       "      <td>Qualcomm Snapdragon 888 Octa-Core</td>\n",
       "      <td>₹1,49,999</td>\n",
       "    </tr>\n",
       "    <tr>\n",
       "      <th>4</th>\n",
       "      <td>SAMSUNG</td>\n",
       "      <td>12</td>\n",
       "      <td>512</td>\n",
       "      <td>Galaxy S22 Ultra 5G</td>\n",
       "      <td>6.8</td>\n",
       "      <td>Quad HD+</td>\n",
       "      <td>5000</td>\n",
       "      <td>40.0</td>\n",
       "      <td>130</td>\n",
       "      <td>17.272</td>\n",
       "      <td>Octa Core</td>\n",
       "      <td>₹1,42,999</td>\n",
       "    </tr>\n",
       "  </tbody>\n",
       "</table>\n",
       "</div>"
      ],
      "text/plain": [
       "  company_name  RAM  ROM                 type  height_in   display  \\\n",
       "0      SAMSUNG   12  512    Galaxy Z Fold4 5G        7.6  Full HD+   \n",
       "1      SAMSUNG   12  256    Galaxy Z Fold3 5G        7.6     QXGA+   \n",
       "2      SAMSUNG   12  256    Galaxy Z Fold4 5G        7.6  Full HD+   \n",
       "3      SAMSUNG   12  256    Galaxy Z Fold3 5G        7.6     QXGA+   \n",
       "4      SAMSUNG   12  512  Galaxy S22 Ultra 5G        6.8  Quad HD+   \n",
       "\n",
       "   battery_power  front_camera back_camera  height_cm  \\\n",
       "0           4400          10.0          72     19.304   \n",
       "1           4400          10.0          36     19.304   \n",
       "2           4400          10.0          72     19.304   \n",
       "3           4400          10.0          36     19.304   \n",
       "4           5000          40.0         130     17.272   \n",
       "\n",
       "                           processor      price  \n",
       "0       Qualcomm Snapdragon 8+ Gen 1  ₹1,64,999  \n",
       "1  Qualcomm Snapdragon 888 Octa-Core  ₹1,61,000  \n",
       "2       Qualcomm Snapdragon 8+ Gen 1  ₹1,54,999  \n",
       "3  Qualcomm Snapdragon 888 Octa-Core  ₹1,49,999  \n",
       "4                          Octa Core  ₹1,42,999  "
      ]
     },
     "execution_count": 6,
     "metadata": {},
     "output_type": "execute_result"
    }
   ],
   "source": [
    "# to access first 5 rows\n",
    "\n",
    "df .head()\n",
    "    \n"
   ]
  },
  {
   "cell_type": "code",
   "execution_count": 8,
   "id": "485fd414",
   "metadata": {},
   "outputs": [
    {
     "data": {
      "text/html": [
       "<div>\n",
       "<style scoped>\n",
       "    .dataframe tbody tr th:only-of-type {\n",
       "        vertical-align: middle;\n",
       "    }\n",
       "\n",
       "    .dataframe tbody tr th {\n",
       "        vertical-align: top;\n",
       "    }\n",
       "\n",
       "    .dataframe thead th {\n",
       "        text-align: right;\n",
       "    }\n",
       "</style>\n",
       "<table border=\"1\" class=\"dataframe\">\n",
       "  <thead>\n",
       "    <tr style=\"text-align: right;\">\n",
       "      <th></th>\n",
       "      <th>company_name</th>\n",
       "      <th>RAM</th>\n",
       "      <th>ROM</th>\n",
       "      <th>type</th>\n",
       "      <th>height_in</th>\n",
       "      <th>display</th>\n",
       "      <th>battery_power</th>\n",
       "      <th>front_camera</th>\n",
       "      <th>back_camera</th>\n",
       "      <th>height_cm</th>\n",
       "      <th>processor</th>\n",
       "      <th>price</th>\n",
       "    </tr>\n",
       "  </thead>\n",
       "  <tbody>\n",
       "    <tr>\n",
       "      <th>791</th>\n",
       "      <td>Redmi</td>\n",
       "      <td>4</td>\n",
       "      <td>64</td>\n",
       "      <td>Note 7 Pro</td>\n",
       "      <td>6.30</td>\n",
       "      <td>Full HD+</td>\n",
       "      <td>4000</td>\n",
       "      <td>13.0</td>\n",
       "      <td>53</td>\n",
       "      <td>16.0020</td>\n",
       "      <td>Qualcomm Snapdragon 675</td>\n",
       "      <td>₹15,999</td>\n",
       "    </tr>\n",
       "    <tr>\n",
       "      <th>792</th>\n",
       "      <td>Redmi</td>\n",
       "      <td>4</td>\n",
       "      <td>64</td>\n",
       "      <td>Note 7 Pro</td>\n",
       "      <td>6.30</td>\n",
       "      <td>Full HD+</td>\n",
       "      <td>4000</td>\n",
       "      <td>13.0</td>\n",
       "      <td>53</td>\n",
       "      <td>16.0020</td>\n",
       "      <td>Qualcomm Snapdragon 675</td>\n",
       "      <td>₹15,999</td>\n",
       "    </tr>\n",
       "    <tr>\n",
       "      <th>793</th>\n",
       "      <td>Redmi</td>\n",
       "      <td>4</td>\n",
       "      <td>64</td>\n",
       "      <td>Note 7 Pro</td>\n",
       "      <td>6.30</td>\n",
       "      <td>Full HD+</td>\n",
       "      <td>4000</td>\n",
       "      <td>13.0</td>\n",
       "      <td>53</td>\n",
       "      <td>16.0020</td>\n",
       "      <td>Qualcomm Snapdragon 675</td>\n",
       "      <td>₹15,999</td>\n",
       "    </tr>\n",
       "    <tr>\n",
       "      <th>794</th>\n",
       "      <td>Infinix</td>\n",
       "      <td>8</td>\n",
       "      <td>128</td>\n",
       "      <td>Note 12 Pro 5G</td>\n",
       "      <td>6.70</td>\n",
       "      <td>Full HD+</td>\n",
       "      <td>5000</td>\n",
       "      <td>16.0</td>\n",
       "      <td>112</td>\n",
       "      <td>17.0180</td>\n",
       "      <td>Mediatek Dimensity 810 5G</td>\n",
       "      <td>₹15,999</td>\n",
       "    </tr>\n",
       "    <tr>\n",
       "      <th>795</th>\n",
       "      <td>REDMI</td>\n",
       "      <td>4</td>\n",
       "      <td>64</td>\n",
       "      <td>11 Prime 5G</td>\n",
       "      <td>6.58</td>\n",
       "      <td>Normal</td>\n",
       "      <td>5000</td>\n",
       "      <td>50.0</td>\n",
       "      <td>50</td>\n",
       "      <td>16.7132</td>\n",
       "      <td>NaN</td>\n",
       "      <td>₹15,999</td>\n",
       "    </tr>\n",
       "  </tbody>\n",
       "</table>\n",
       "</div>"
      ],
      "text/plain": [
       "    company_name  RAM  ROM            type  height_in   display  \\\n",
       "791        Redmi    4   64      Note 7 Pro       6.30  Full HD+   \n",
       "792        Redmi    4   64      Note 7 Pro       6.30  Full HD+   \n",
       "793        Redmi    4   64      Note 7 Pro       6.30  Full HD+   \n",
       "794      Infinix    8  128  Note 12 Pro 5G       6.70  Full HD+   \n",
       "795        REDMI    4   64     11 Prime 5G       6.58    Normal   \n",
       "\n",
       "     battery_power  front_camera back_camera  height_cm  \\\n",
       "791           4000          13.0          53    16.0020   \n",
       "792           4000          13.0          53    16.0020   \n",
       "793           4000          13.0          53    16.0020   \n",
       "794           5000          16.0         112    17.0180   \n",
       "795           5000          50.0          50    16.7132   \n",
       "\n",
       "                     processor    price  \n",
       "791    Qualcomm Snapdragon 675  ₹15,999  \n",
       "792    Qualcomm Snapdragon 675  ₹15,999  \n",
       "793    Qualcomm Snapdragon 675  ₹15,999  \n",
       "794  Mediatek Dimensity 810 5G  ₹15,999  \n",
       "795                        NaN  ₹15,999  "
      ]
     },
     "execution_count": 8,
     "metadata": {},
     "output_type": "execute_result"
    }
   ],
   "source": [
    "# to access last 5 rows\n",
    "df.tail()\n",
    "    \n",
    "    \n",
    "  "
   ]
  },
  {
   "cell_type": "code",
   "execution_count": 10,
   "id": "14a00829",
   "metadata": {},
   "outputs": [],
   "source": [
    " # creating pandas series and data frames\n",
    "    # from a list or array\n",
    "data=[10,20,30,40,50]\n"
   ]
  },
  {
   "cell_type": "code",
   "execution_count": 13,
   "id": "de15230b",
   "metadata": {},
   "outputs": [
    {
     "data": {
      "text/plain": [
       "0    10\n",
       "1    20\n",
       "2    30\n",
       "3    40\n",
       "4    50\n",
       "dtype: int64"
      ]
     },
     "execution_count": 13,
     "metadata": {},
     "output_type": "execute_result"
    }
   ],
   "source": [
    "series = pd.Series(data)\n",
    "series"
   ]
  },
  {
   "cell_type": "markdown",
   "id": "e1180942",
   "metadata": {},
   "source": [
    " "
   ]
  },
  {
   "cell_type": "code",
   "execution_count": 14,
   "id": "1cda65b9",
   "metadata": {},
   "outputs": [],
   "source": [
    "value =5"
   ]
  },
  {
   "cell_type": "code",
   "execution_count": 16,
   "id": "cf1491f0",
   "metadata": {},
   "outputs": [
    {
     "data": {
      "text/plain": [
       "a    5\n",
       "b    5\n",
       "c    5\n",
       "dtype: int64"
      ]
     },
     "execution_count": 16,
     "metadata": {},
     "output_type": "execute_result"
    }
   ],
   "source": [
    "series = pd.Series(value,index=('a','b','c'))\n",
    "series"
   ]
  },
  {
   "cell_type": "code",
   "execution_count": 17,
   "id": "45a598f2",
   "metadata": {},
   "outputs": [],
   "source": [
    "# data frame\n"
   ]
  },
  {
   "cell_type": "code",
   "execution_count": 18,
   "id": "ee15d0b0",
   "metadata": {},
   "outputs": [],
   "source": [
    "# create a dataframe"
   ]
  },
  {
   "cell_type": "code",
   "execution_count": 22,
   "id": "89c70722",
   "metadata": {},
   "outputs": [
    {
     "data": {
      "text/plain": [
       "{'name': ['john', 'emma', 'mike'],\n",
       " 'age': [25, 30, 35],\n",
       " 'city': ['london', 'newyork', 'paris']}"
      ]
     },
     "execution_count": 22,
     "metadata": {},
     "output_type": "execute_result"
    }
   ],
   "source": [
    "data = {'name':['john','emma','mike'],'age':[25,30,35],'city':['london','newyork','paris']}\n",
    "data"
   ]
  },
  {
   "cell_type": "code",
   "execution_count": 26,
   "id": "ecffc46f",
   "metadata": {},
   "outputs": [
    {
     "data": {
      "text/html": [
       "<div>\n",
       "<style scoped>\n",
       "    .dataframe tbody tr th:only-of-type {\n",
       "        vertical-align: middle;\n",
       "    }\n",
       "\n",
       "    .dataframe tbody tr th {\n",
       "        vertical-align: top;\n",
       "    }\n",
       "\n",
       "    .dataframe thead th {\n",
       "        text-align: right;\n",
       "    }\n",
       "</style>\n",
       "<table border=\"1\" class=\"dataframe\">\n",
       "  <thead>\n",
       "    <tr style=\"text-align: right;\">\n",
       "      <th></th>\n",
       "      <th>name</th>\n",
       "      <th>age</th>\n",
       "      <th>city</th>\n",
       "    </tr>\n",
       "  </thead>\n",
       "  <tbody>\n",
       "    <tr>\n",
       "      <th>0</th>\n",
       "      <td>john</td>\n",
       "      <td>25</td>\n",
       "      <td>london</td>\n",
       "    </tr>\n",
       "    <tr>\n",
       "      <th>1</th>\n",
       "      <td>emma</td>\n",
       "      <td>30</td>\n",
       "      <td>newyork</td>\n",
       "    </tr>\n",
       "    <tr>\n",
       "      <th>2</th>\n",
       "      <td>mike</td>\n",
       "      <td>35</td>\n",
       "      <td>paris</td>\n",
       "    </tr>\n",
       "  </tbody>\n",
       "</table>\n",
       "</div>"
      ],
      "text/plain": [
       "   name  age     city\n",
       "0  john   25   london\n",
       "1  emma   30  newyork\n",
       "2  mike   35    paris"
      ]
     },
     "execution_count": 26,
     "metadata": {},
     "output_type": "execute_result"
    }
   ],
   "source": [
    "df = pd.DataFrame(data)\n",
    "df"
   ]
  },
  {
   "cell_type": "code",
   "execution_count": 28,
   "id": "a8022eda",
   "metadata": {},
   "outputs": [],
   "source": [
    "# commmon operation on series and data frame \n",
    "\n",
    "# to fill and drop - fillna() and dropna()\n",
    "\n",
    "# statistics - min, max , sum,mean,count\n",
    "# data visualization - matplotlib,seaborn"
   ]
  },
  {
   "cell_type": "code",
   "execution_count": 29,
   "id": "73933b24",
   "metadata": {},
   "outputs": [],
   "source": [
    "# .loc and .iloc function"
   ]
  },
  {
   "cell_type": "code",
   "execution_count": 31,
   "id": "eba33499",
   "metadata": {},
   "outputs": [
    {
     "data": {
      "text/plain": [
       "'mike'"
      ]
     },
     "execution_count": 31,
     "metadata": {},
     "output_type": "execute_result"
    }
   ],
   "source": [
    "\n",
    "df.loc[2,'name']"
   ]
  },
  {
   "cell_type": "code",
   "execution_count": 32,
   "id": "a73f9ca1",
   "metadata": {},
   "outputs": [
    {
     "data": {
      "text/plain": [
       "'london'"
      ]
     },
     "execution_count": 32,
     "metadata": {},
     "output_type": "execute_result"
    }
   ],
   "source": [
    "df.iloc[0,2]"
   ]
  },
  {
   "cell_type": "code",
   "execution_count": 33,
   "id": "9bada5d9",
   "metadata": {},
   "outputs": [],
   "source": [
    "# reset index"
   ]
  },
  {
   "cell_type": "code",
   "execution_count": 34,
   "id": "16d9b2e2",
   "metadata": {},
   "outputs": [
    {
     "data": {
      "text/html": [
       "<div>\n",
       "<style scoped>\n",
       "    .dataframe tbody tr th:only-of-type {\n",
       "        vertical-align: middle;\n",
       "    }\n",
       "\n",
       "    .dataframe tbody tr th {\n",
       "        vertical-align: top;\n",
       "    }\n",
       "\n",
       "    .dataframe thead th {\n",
       "        text-align: right;\n",
       "    }\n",
       "</style>\n",
       "<table border=\"1\" class=\"dataframe\">\n",
       "  <thead>\n",
       "    <tr style=\"text-align: right;\">\n",
       "      <th></th>\n",
       "      <th>index</th>\n",
       "      <th>name</th>\n",
       "      <th>age</th>\n",
       "      <th>city</th>\n",
       "    </tr>\n",
       "  </thead>\n",
       "  <tbody>\n",
       "    <tr>\n",
       "      <th>0</th>\n",
       "      <td>0</td>\n",
       "      <td>john</td>\n",
       "      <td>25</td>\n",
       "      <td>london</td>\n",
       "    </tr>\n",
       "    <tr>\n",
       "      <th>1</th>\n",
       "      <td>1</td>\n",
       "      <td>emma</td>\n",
       "      <td>30</td>\n",
       "      <td>newyork</td>\n",
       "    </tr>\n",
       "    <tr>\n",
       "      <th>2</th>\n",
       "      <td>2</td>\n",
       "      <td>mike</td>\n",
       "      <td>35</td>\n",
       "      <td>paris</td>\n",
       "    </tr>\n",
       "  </tbody>\n",
       "</table>\n",
       "</div>"
      ],
      "text/plain": [
       "   index  name  age     city\n",
       "0      0  john   25   london\n",
       "1      1  emma   30  newyork\n",
       "2      2  mike   35    paris"
      ]
     },
     "execution_count": 34,
     "metadata": {},
     "output_type": "execute_result"
    }
   ],
   "source": [
    "df.reset_index()"
   ]
  },
  {
   "cell_type": "code",
   "execution_count": 45,
   "id": "fc95c0c3",
   "metadata": {},
   "outputs": [],
   "source": [
    "# drop and inplace  function\n",
    "\n",
    "import pandas as pd\n",
    "\n",
    "# Assuming 'df' is your DataFrame\n",
    "df.drop(1, inplace=True)\n",
    "\n"
   ]
  },
  {
   "cell_type": "code",
   "execution_count": 46,
   "id": "c10f75a5",
   "metadata": {},
   "outputs": [
    {
     "data": {
      "text/html": [
       "<div>\n",
       "<style scoped>\n",
       "    .dataframe tbody tr th:only-of-type {\n",
       "        vertical-align: middle;\n",
       "    }\n",
       "\n",
       "    .dataframe tbody tr th {\n",
       "        vertical-align: top;\n",
       "    }\n",
       "\n",
       "    .dataframe thead th {\n",
       "        text-align: right;\n",
       "    }\n",
       "</style>\n",
       "<table border=\"1\" class=\"dataframe\">\n",
       "  <thead>\n",
       "    <tr style=\"text-align: right;\">\n",
       "      <th></th>\n",
       "      <th>name</th>\n",
       "      <th>age</th>\n",
       "      <th>city</th>\n",
       "    </tr>\n",
       "  </thead>\n",
       "  <tbody>\n",
       "    <tr>\n",
       "      <th>2</th>\n",
       "      <td>mike</td>\n",
       "      <td>35</td>\n",
       "      <td>paris</td>\n",
       "    </tr>\n",
       "  </tbody>\n",
       "</table>\n",
       "</div>"
      ],
      "text/plain": [
       "   name  age   city\n",
       "2  mike   35  paris"
      ]
     },
     "execution_count": 46,
     "metadata": {},
     "output_type": "execute_result"
    }
   ],
   "source": [
    "df"
   ]
  },
  {
   "cell_type": "code",
   "execution_count": 52,
   "id": "21dd11ca",
   "metadata": {},
   "outputs": [
    {
     "name": "stdout",
     "output_type": "stream",
     "text": [
      "Match found!\n"
     ]
    }
   ],
   "source": [
    "# re.match \n",
    "\n",
    "import re\n",
    "\n",
    "# Define a regular expression pattern\n",
    "pattern = r'^Hello'\n",
    "\n",
    "# Sample string\n",
    "text = 'Hello, World!'\n",
    "\n",
    "# Use re.match to check if the string starts with 'Hello'\n",
    "match_object = re.match(pattern, text)\n",
    "\n",
    "# Check if there is a match\n",
    "if match_object:\n",
    "    print('Match found!')\n",
    "else:\n",
    "    print('No match.')\n"
   ]
  },
  {
   "cell_type": "code",
   "execution_count": 56,
   "id": "44d070e0",
   "metadata": {},
   "outputs": [
    {
     "name": "stdout",
     "output_type": "stream",
     "text": [
      "I like orange and orange pie.\n"
     ]
    }
   ],
   "source": [
    "# re.sub\n",
    "import re\n",
    "\n",
    "# Example: Replace all occurrences of 'apple' with 'orange'\n",
    "text = 'I like apple and apple pie.'\n",
    "modified_text = re.sub(r'apple', 'orange', text)\n",
    "\n",
    "print(modified_text)\n"
   ]
  },
  {
   "cell_type": "code",
   "execution_count": 54,
   "id": "62aa981e",
   "metadata": {},
   "outputs": [
    {
     "name": "stdout",
     "output_type": "stream",
     "text": [
      "['20', '15']\n"
     ]
    }
   ],
   "source": [
    "# re.findall\n",
    "import re\n",
    "\n",
    "# Example: Find all occurrences of digits in a string\n",
    "text = 'The price is $20 and the discount is 15%.'\n",
    "matches = re.findall(r'\\d+', text)\n",
    "\n",
    "print(matches)\n"
   ]
  },
  {
   "cell_type": "code",
   "execution_count": 57,
   "id": "bc595dca",
   "metadata": {},
   "outputs": [
    {
     "name": "stdout",
     "output_type": "stream",
     "text": [
      "Match found at index: 7\n"
     ]
    }
   ],
   "source": [
    "#re.search\n",
    "import re\n",
    "\n",
    "# Example: Search for the word 'python' in a string\n",
    "text = 'I love Python programming.'\n",
    "match_object = re.search(r'python', text, flags=re.IGNORECASE)  # Case-insensitive search\n",
    "\n",
    "if match_object:\n",
    "    print('Match found at index:', match_object.start())\n",
    "else:\n",
    "    print('No match found.')\n"
   ]
  },
  {
   "cell_type": "code",
   "execution_count": null,
   "id": "a17f129a",
   "metadata": {},
   "outputs": [],
   "source": []
  }
 ],
 "metadata": {
  "kernelspec": {
   "display_name": "Python 3 (ipykernel)",
   "language": "python",
   "name": "python3"
  },
  "language_info": {
   "codemirror_mode": {
    "name": "ipython",
    "version": 3
   },
   "file_extension": ".py",
   "mimetype": "text/x-python",
   "name": "python",
   "nbconvert_exporter": "python",
   "pygments_lexer": "ipython3",
   "version": "3.11.5"
  }
 },
 "nbformat": 4,
 "nbformat_minor": 5
}
